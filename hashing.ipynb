{
 "cells": [
  {
   "cell_type": "code",
   "execution_count": 2,
   "id": "a306c40c",
   "metadata": {},
   "outputs": [
    {
     "name": "stdout",
     "output_type": "stream",
     "text": [
      "Name: John Doe, Major: Computer Science\n"
     ]
    }
   ],
   "source": [
    "class Student:\n",
    "    def __init__(self, student_id, name, major):\n",
    "        self.student_id = student_id\n",
    "        self.name = name\n",
    "        self.major = major\n",
    "\n",
    "class Node:\n",
    "    def __init__(self, student):\n",
    "        self.student = student\n",
    "        self.next = None\n",
    "\n",
    "class HashTable:\n",
    "    def __init__(self, size):\n",
    "        self.size = size\n",
    "        self.table = [None] * size\n",
    "\n",
    "    def hash_function(self, key):\n",
    "        return key % self.size\n",
    "\n",
    "    def insert(self, student):\n",
    "        hash_value = self.hash_function(student.student_id)\n",
    "        if self.table[hash_value] is None:\n",
    "            self.table[hash_value] = Node(student)\n",
    "        else:\n",
    "            current = self.table[hash_value]\n",
    "            while current.next:\n",
    "                current = current.next\n",
    "            current.next = Node(student)\n",
    "\n",
    "    def retrieve(self, student_id):\n",
    "        hash_value = self.hash_function(student_id)\n",
    "        current = self.table[hash_value]\n",
    "        while current:\n",
    "            if current.student.student_id == student_id:\n",
    "                return current.student\n",
    "            current = current.next\n",
    "        return None\n",
    "\n",
    "    def delete(self, student_id):\n",
    "        hash_value = self.hash_function(student_id)\n",
    "        current = self.table[hash_value]\n",
    "        previous = None\n",
    "        while current:\n",
    "            if current.student.student_id == student_id:\n",
    "                if previous:\n",
    "                    previous.next = current.next\n",
    "                else:\n",
    "                    self.table[hash_value] = current.next\n",
    "                break\n",
    "            previous = current\n",
    "            current = current.next\n",
    "\n",
    "# Example usage:\n",
    "hash_table = HashTable(15000)\n",
    "\n",
    "# Creating student records\n",
    "student1 = Student(123456, \"John Doe\", \"Computer Science\")\n",
    "student2 = Student(789012, \"Jane Smith\", \"Electrical Engineering\")\n",
    "student3 = Student(345678, \"David Johnson\", \"Mechanical Engineering\")\n",
    "\n",
    "# Inserting records into the hash table\n",
    "hash_table.insert(student1)\n",
    "hash_table.insert(student2)\n",
    "hash_table.insert(student3)\n",
    "\n",
    "# Retrieving a student record by ID\n",
    "retrieved_student = hash_table.retrieve(123456)\n",
    "if retrieved_student:\n",
    "    print(f\"Name: {retrieved_student.name}, Major: {retrieved_student.major}\")\n",
    "else:\n",
    "    print(\"Student not found.\")\n",
    "\n",
    "# Deleting a student record by ID\n",
    "hash_table.delete(789012)\n"
   ]
  },
  {
   "cell_type": "code",
   "execution_count": null,
   "id": "1a17be68",
   "metadata": {},
   "outputs": [],
   "source": []
  },
  {
   "cell_type": "code",
   "execution_count": null,
   "id": "4254e334",
   "metadata": {},
   "outputs": [],
   "source": []
  },
  {
   "cell_type": "code",
   "execution_count": 5,
   "id": "ed19f042",
   "metadata": {},
   "outputs": [
    {
     "name": "stdout",
     "output_type": "stream",
     "text": [
      "Total collisions: 3717\n"
     ]
    }
   ],
   "source": [
    "import random\n",
    "\n",
    "class Student:\n",
    "    def __init__(self, student_id, name):\n",
    "        self.student_id = student_id\n",
    "        self.name = name\n",
    "\n",
    "class HashTable:\n",
    "    def __init__(self, size):\n",
    "        self.size = size\n",
    "        self.table = [[] for _ in range(size)]\n",
    "        self.collision_count = 0\n",
    "\n",
    "    def hash_function(self, key):\n",
    "        return key % self.size\n",
    "\n",
    "    def insert(self, student):\n",
    "        hash_value = self.hash_function(student.student_id)\n",
    "        if self.table[hash_value]:\n",
    "            self.collision_count += 1\n",
    "        self.table[hash_value].append(student)\n",
    "\n",
    "    def get_collision_count(self):\n",
    "        return self.collision_count\n",
    "\n",
    "# Experiment\n",
    "num_students = 12000\n",
    "address_space_size = 15000\n",
    "\n",
    "hash_table = HashTable(address_space_size)\n",
    "\n",
    "# Generate and insert random student records\n",
    "for _ in range(num_students):\n",
    "    student_id = random.randint(10000000, 99999999)\n",
    "    student_name = \"Student \" + str(student_id)\n",
    "    student = Student(student_id, student_name)\n",
    "    hash_table.insert(student)\n",
    "\n",
    "collision_count = hash_table.get_collision_count()\n",
    "print(\"Total collisions:\", collision_count)\n"
   ]
  },
  {
   "cell_type": "code",
   "execution_count": null,
   "id": "f7a0077a",
   "metadata": {},
   "outputs": [],
   "source": []
  },
  {
   "cell_type": "code",
   "execution_count": null,
   "id": "704b1589",
   "metadata": {},
   "outputs": [],
   "source": []
  },
  {
   "cell_type": "code",
   "execution_count": null,
   "id": "b74eb9bd",
   "metadata": {},
   "outputs": [],
   "source": []
  },
  {
   "cell_type": "code",
   "execution_count": null,
   "id": "7e45bdf5",
   "metadata": {},
   "outputs": [],
   "source": []
  },
  {
   "cell_type": "code",
   "execution_count": null,
   "id": "8801bf33",
   "metadata": {},
   "outputs": [],
   "source": []
  },
  {
   "cell_type": "code",
   "execution_count": null,
   "id": "7d33afcc",
   "metadata": {},
   "outputs": [],
   "source": []
  },
  {
   "cell_type": "code",
   "execution_count": null,
   "id": "cabe8a4d",
   "metadata": {},
   "outputs": [],
   "source": []
  },
  {
   "cell_type": "code",
   "execution_count": null,
   "id": "7e6398e8",
   "metadata": {},
   "outputs": [],
   "source": []
  },
  {
   "cell_type": "code",
   "execution_count": null,
   "id": "75d00673",
   "metadata": {},
   "outputs": [],
   "source": []
  },
  {
   "cell_type": "code",
   "execution_count": null,
   "id": "788977cd",
   "metadata": {},
   "outputs": [],
   "source": []
  },
  {
   "cell_type": "code",
   "execution_count": null,
   "id": "0ff58766",
   "metadata": {},
   "outputs": [],
   "source": []
  },
  {
   "cell_type": "code",
   "execution_count": null,
   "id": "8263628b",
   "metadata": {},
   "outputs": [],
   "source": []
  },
  {
   "cell_type": "code",
   "execution_count": null,
   "id": "d2ec6b66",
   "metadata": {},
   "outputs": [],
   "source": []
  },
  {
   "cell_type": "code",
   "execution_count": null,
   "id": "9189adcd",
   "metadata": {},
   "outputs": [],
   "source": []
  }
 ],
 "metadata": {
  "kernelspec": {
   "display_name": "Python 3 (ipykernel)",
   "language": "python",
   "name": "python3"
  },
  "language_info": {
   "codemirror_mode": {
    "name": "ipython",
    "version": 3
   },
   "file_extension": ".py",
   "mimetype": "text/x-python",
   "name": "python",
   "nbconvert_exporter": "python",
   "pygments_lexer": "ipython3",
   "version": "3.11.5"
  }
 },
 "nbformat": 4,
 "nbformat_minor": 5
}
